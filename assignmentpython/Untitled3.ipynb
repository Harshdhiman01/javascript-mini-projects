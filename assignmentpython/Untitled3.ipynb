{
  "nbformat": 4,
  "nbformat_minor": 0,
  "metadata": {
    "colab": {
      "provenance": []
    },
    "kernelspec": {
      "name": "python3",
      "display_name": "Python 3"
    },
    "language_info": {
      "name": "python"
    }
  },
  "cells": [
    {
      "cell_type": "code",
      "execution_count": null,
      "metadata": {
        "colab": {
          "base_uri": "https://localhost:8080/"
        },
        "id": "0JPJXKIqIab5",
        "outputId": "db18d632-8d3f-44cd-afae-d7b5b850f092"
      },
      "outputs": [
        {
          "output_type": "stream",
          "name": "stdout",
          "text": [
            "Enter a number10\n",
            "Enter b number20\n",
            "Enter your choice from the given options \n",
            "1. Addition\n",
            "2. Subtraction\n",
            "3. Devision\n",
            "4. Multiplication\n",
            "5. Modulo\n",
            "6. Exit\n",
            "Enter your choice : 4\n",
            "multiplication of two numbers are : 200\n"
          ]
        }
      ],
      "source": [
        "a = int(input(\"Enter a number\"))\n",
        "b = int(input(\"Enter b number\"))\n",
        "choice =int(input(\"\"\"Enter your choice from the given options\n",
        "1. Addition\n",
        "2. Subtraction\n",
        "3. Devision\n",
        "4. Multiplication\n",
        "5. Modulo\n",
        "6. Exit\n",
        "Enter your choice : \"\"\"))\n",
        "if choice == 1:\n",
        "  print(\"addition of two numbers are :\",a+b)\n",
        "elif choice == 2:\n",
        "  print(\"subtraction of two numbers are :\",a-b)\n",
        "elif choice == 3:\n",
        "  try:\n",
        "    print(\"division of two numbers are :\",a/b)\n",
        "  except Exception as e:\n",
        "    print(e)\n",
        "elif choice == 4:\n",
        "  print(\"multiplication of two numbers are :\",a*b)\n",
        "elif choice == 5:\n",
        "  print(\"modulo of two numbers are :\",a%b)\n",
        "elif choice == 6:\n",
        "  print(\"exit\")\n",
        "else:\n",
        "  print(\"invalid input\")"
      ]
    },
    {
      "cell_type": "code",
      "source": [
        "def sumOfNumbers(number):\n",
        "  sum = 0\n",
        "  for i in number:\n",
        "    sum += i\n",
        "  return sum\n",
        "\n",
        "print(sumOfNumbers([1,2,3,4,5]))"
      ],
      "metadata": {
        "colab": {
          "base_uri": "https://localhost:8080/"
        },
        "id": "iZ3Phf5ELiil",
        "outputId": "80737a6a-30a1-48eb-f128-1e04709a51db"
      },
      "execution_count": null,
      "outputs": [
        {
          "output_type": "stream",
          "name": "stdout",
          "text": [
            "15\n"
          ]
        }
      ]
    },
    {
      "cell_type": "code",
      "source": [
        "def sumOfList(numbers):\n",
        "    sum = 0\n",
        "    for i in numbers:\n",
        "        sum += i\n",
        "    return sum\n",
        "\n",
        "\n",
        "iterations = int(input(\"Enter number of Elements you want to enter : \"))\n",
        "lis = []\n",
        "for i in range(iterations):\n",
        "    aa = int(input(f\"Enter {i+1} Element :\"))\n",
        "    lis.append(aa)\n",
        "\n",
        "\n",
        "print(sumOfList(lis))"
      ],
      "metadata": {
        "colab": {
          "base_uri": "https://localhost:8080/"
        },
        "id": "1K4ICUWNL7WV",
        "outputId": "e334929b-c042-4650-ce09-6491a70558a2"
      },
      "execution_count": null,
      "outputs": [
        {
          "output_type": "stream",
          "name": "stdout",
          "text": [
            "Enter number of Elements you want to enter : 3\n",
            "Enter 1 Element :5\n",
            "Enter 2 Element :8\n",
            "Enter 3 Element :4\n",
            "17\n"
          ]
        }
      ]
    },
    {
      "cell_type": "code",
      "source": [
        "from os import waitstatus_to_exitcode\n",
        "phoneBook = {}\n",
        "\n",
        "def add_name(name, number):\n",
        "    phoneBook[name] = number\n",
        "    print(f\"{name} added to the phone book\")\n",
        "\n",
        "def search_name(name):\n",
        "    if name in phoneBook:\n",
        "        print(f\"{name} : {phoneBook[name]}\")\n",
        "    else:\n",
        "        print(f\"{name} not found\")\n",
        "\n",
        "def delete_name(name):\n",
        "    if name in phoneBook:\n",
        "        del phoneBook[name]\n",
        "        print(f\"{name} deleted from the phone book\")\n",
        "    else:\n",
        "        print(f\"{name} not found\")\n",
        "\n",
        "while True:\n",
        "\n",
        " choice = int(input(\"\"\"Enter your choice from the given options\n",
        "  1. Add Name\n",
        "  2. Search Name\n",
        "  3. Delete Name\n",
        "  4. Exit\n",
        "  Enter your choice : \"\"\"))\n",
        "\n",
        "if choice == 1:\n",
        "       name = input(\"Enter the name: \")\n",
        "       number = input(\"Enter the number: \")\n",
        "       add_name(name, number)\n",
        "elif choice == 2:\n",
        "       name = input(\"Enter the name to search: \")\n",
        "       search_name(name)\n",
        "elif choice == 3:\n",
        "       name = input(\"Enter the name to delete: \")\n",
        "       delete_name(name)\n",
        "elif choice == 4:\n",
        "  break\n",
        "else:\n",
        "   print(\"Invalid input\")\n",
        "\n",
        "\n",
        "\n",
        "\n",
        "\n"
      ],
      "metadata": {
        "colab": {
          "base_uri": "https://localhost:8080/",
          "height": 356
        },
        "id": "-_chwg7FQVzD",
        "outputId": "c8d84056-a3c6-4532-c208-a00655b0fc31"
      },
      "execution_count": null,
      "outputs": [
        {
          "output_type": "error",
          "ename": "KeyboardInterrupt",
          "evalue": "Interrupted by user",
          "traceback": [
            "\u001b[0;31m---------------------------------------------------------------------------\u001b[0m",
            "\u001b[0;31mKeyboardInterrupt\u001b[0m                         Traceback (most recent call last)",
            "\u001b[0;32m<ipython-input-40-5a3362316719>\u001b[0m in \u001b[0;36m<cell line: 21>\u001b[0;34m()\u001b[0m\n\u001b[1;32m     21\u001b[0m \u001b[0;32mwhile\u001b[0m \u001b[0;32mTrue\u001b[0m\u001b[0;34m:\u001b[0m\u001b[0;34m\u001b[0m\u001b[0;34m\u001b[0m\u001b[0m\n\u001b[1;32m     22\u001b[0m \u001b[0;34m\u001b[0m\u001b[0m\n\u001b[0;32m---> 23\u001b[0;31m  choice = int(input(\"\"\"Enter your choice from the given options \n\u001b[0m\u001b[1;32m     24\u001b[0m   \u001b[0;36m1.\u001b[0m \u001b[0mAdd\u001b[0m \u001b[0mName\u001b[0m\u001b[0;34m\u001b[0m\u001b[0;34m\u001b[0m\u001b[0m\n\u001b[1;32m     25\u001b[0m   \u001b[0;36m2.\u001b[0m \u001b[0mSearch\u001b[0m \u001b[0mName\u001b[0m\u001b[0;34m\u001b[0m\u001b[0;34m\u001b[0m\u001b[0m\n",
            "\u001b[0;32m/usr/local/lib/python3.10/dist-packages/ipykernel/kernelbase.py\u001b[0m in \u001b[0;36mraw_input\u001b[0;34m(self, prompt)\u001b[0m\n\u001b[1;32m    849\u001b[0m                 \u001b[0;34m\"raw_input was called, but this frontend does not support input requests.\"\u001b[0m\u001b[0;34m\u001b[0m\u001b[0;34m\u001b[0m\u001b[0m\n\u001b[1;32m    850\u001b[0m             )\n\u001b[0;32m--> 851\u001b[0;31m         return self._input_request(str(prompt),\n\u001b[0m\u001b[1;32m    852\u001b[0m             \u001b[0mself\u001b[0m\u001b[0;34m.\u001b[0m\u001b[0m_parent_ident\u001b[0m\u001b[0;34m,\u001b[0m\u001b[0;34m\u001b[0m\u001b[0;34m\u001b[0m\u001b[0m\n\u001b[1;32m    853\u001b[0m             \u001b[0mself\u001b[0m\u001b[0;34m.\u001b[0m\u001b[0m_parent_header\u001b[0m\u001b[0;34m,\u001b[0m\u001b[0;34m\u001b[0m\u001b[0;34m\u001b[0m\u001b[0m\n",
            "\u001b[0;32m/usr/local/lib/python3.10/dist-packages/ipykernel/kernelbase.py\u001b[0m in \u001b[0;36m_input_request\u001b[0;34m(self, prompt, ident, parent, password)\u001b[0m\n\u001b[1;32m    893\u001b[0m             \u001b[0;32mexcept\u001b[0m \u001b[0mKeyboardInterrupt\u001b[0m\u001b[0;34m:\u001b[0m\u001b[0;34m\u001b[0m\u001b[0;34m\u001b[0m\u001b[0m\n\u001b[1;32m    894\u001b[0m                 \u001b[0;31m# re-raise KeyboardInterrupt, to truncate traceback\u001b[0m\u001b[0;34m\u001b[0m\u001b[0;34m\u001b[0m\u001b[0m\n\u001b[0;32m--> 895\u001b[0;31m                 \u001b[0;32mraise\u001b[0m \u001b[0mKeyboardInterrupt\u001b[0m\u001b[0;34m(\u001b[0m\u001b[0;34m\"Interrupted by user\"\u001b[0m\u001b[0;34m)\u001b[0m \u001b[0;32mfrom\u001b[0m \u001b[0;32mNone\u001b[0m\u001b[0;34m\u001b[0m\u001b[0;34m\u001b[0m\u001b[0m\n\u001b[0m\u001b[1;32m    896\u001b[0m             \u001b[0;32mexcept\u001b[0m \u001b[0mException\u001b[0m \u001b[0;32mas\u001b[0m \u001b[0me\u001b[0m\u001b[0;34m:\u001b[0m\u001b[0;34m\u001b[0m\u001b[0;34m\u001b[0m\u001b[0m\n\u001b[1;32m    897\u001b[0m                 \u001b[0mself\u001b[0m\u001b[0;34m.\u001b[0m\u001b[0mlog\u001b[0m\u001b[0;34m.\u001b[0m\u001b[0mwarning\u001b[0m\u001b[0;34m(\u001b[0m\u001b[0;34m\"Invalid Message:\"\u001b[0m\u001b[0;34m,\u001b[0m \u001b[0mexc_info\u001b[0m\u001b[0;34m=\u001b[0m\u001b[0;32mTrue\u001b[0m\u001b[0;34m)\u001b[0m\u001b[0;34m\u001b[0m\u001b[0;34m\u001b[0m\u001b[0m\n",
            "\u001b[0;31mKeyboardInterrupt\u001b[0m: Interrupted by user"
          ]
        }
      ]
    },
    {
      "cell_type": "code",
      "source": [],
      "metadata": {
        "id": "Afqi66XU8ZJv"
      },
      "execution_count": null,
      "outputs": []
    },
    {
      "cell_type": "code",
      "source": [],
      "metadata": {
        "id": "qnp4TjrJRDdS"
      },
      "execution_count": null,
      "outputs": []
    }
  ]
}